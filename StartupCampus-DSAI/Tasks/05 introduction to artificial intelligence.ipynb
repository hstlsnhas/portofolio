{
  "nbformat": 4,
  "nbformat_minor": 0,
  "metadata": {
    "colab": {
      "provenance": [],
      "collapsed_sections": [
        "mlvBCpyj8ubp",
        "VEJDAbF9Sv2w",
        "PBQNYzfKXE0o",
        "9wjYvuNXPg2A"
      ],
      "toc_visible": true
    },
    "kernelspec": {
      "name": "python3",
      "display_name": "Python 3"
    },
    "language_info": {
      "name": "python"
    }
  },
  "cells": [
    {
      "cell_type": "markdown",
      "source": [
        "Tim 24D\n",
        "* SC62404 - Frasty Julistyfenia Rambing\n",
        "* SC62410 - Siti Luna Satiyah\n",
        "* SC62418 - Winola Farhani\n",
        "* SC62419 - Anindyta Shayna Widyanugraha\n",
        "* SC62421 - Hastialisna Hurul Aeni Setiawan\n",
        "* SC62423 - Perwira Annissa Dyah Permatasari\n",
        "\n"
      ],
      "metadata": {
        "id": "aFNjOevyXs4f"
      }
    },
    {
      "cell_type": "markdown",
      "source": [
        "Text classification berdasarkan Bag-of-Words\n",
        "\n",
        "Tulis syntax di Google Colab:\n",
        "- Tentukan tiga topik terkait: Kesehatan, Olahraga, Keuangan.\n",
        "- Temukan teks/artikel sebagai dasar/pelatihan/training ketiga topik tersebut.\n",
        "- Hitung vektor Bag-of-Words untuk setiap topik.\n",
        "\n",
        "Klasifikasikan teks ini dalam topik yang benar:\\\n",
        "“Cristiano Ronaldo came off the bench to earn Manchester United a hard-fought 2-1 victory at Everton in the Premier League on Sunday, taking his career goal tally to 700 in the process. Just as United did last weekend in their derby mauling at the hands of local rivals Manchester City, they again found themselves behind early on at Goodison Park after Alex Iwobi curled a sublime strike into the net from 20 metres.”"
      ],
      "metadata": {
        "id": "GiyQn6cF8hIB"
      }
    },
    {
      "cell_type": "markdown",
      "source": [
        "#### Topik dan Artikel"
      ],
      "metadata": {
        "id": "mlvBCpyj8ubp"
      }
    },
    {
      "cell_type": "markdown",
      "source": [
        "**Topik**:\n",
        "* Topik kesehatan: Mental Health & Medical Act\n",
        "* Topik olahraga: Basketball & Football\n",
        "* Topik keuangan: Tax & Indonesia's Economic"
      ],
      "metadata": {
        "id": "ZtJ6XqbOBfKr"
      }
    },
    {
      "cell_type": "markdown",
      "source": [
        "**Artikel dan Sumber:**\\\n",
        "Training article\n",
        "* Mental Health : [A promising framework for managing students’ mental health](https://www.universityworldnews.com/post.php?story=20240415151821371)\n",
        "* Basketball : [Day 1: Prawira overcome adversity, rally back to beat Hong Kong Eastern](https://www.fiba.basketball/bclasia/2024/qualifiers/news/round-2-day-1-recap)\n",
        "* Tax : [President Joe Biden Proposes Historic 44.6% Capital Gains Tax](https://coingape.com/president-joe-biden-proposes-historic-44-6-capital-gains-tax/)\n",
        "\n",
        "Testing article\n",
        "* Medical Act : [MOH Stands by Decision to Amend Medical Act 1971](https://thesun.my/local_news/moh-stands-by-decision-to-amend-medical-act-1971-GI12388295)\n",
        "* Football : [Indonesia U-23 National Team Makes History by Beating South Korea in Penalty Shootout](https://jakartaglobe.id/news/indonesia-u23-national-team-makes-history-by-beating-south-korea-in-penalty-shootout)\n",
        "* Indonesia's Economecic : [Finance Minister Forecasts Indonesia's Q1 2024 Economic Growth at 5.17 Percent](https://jakartaglobe.id/business/finance-minister-forecasts-indonesias-q1-2024-economic-growth-at-517-percent)"
      ],
      "metadata": {
        "id": "rrj14nTASiPW"
      }
    },
    {
      "cell_type": "markdown",
      "source": [
        "#### Menghitung Vektor Bag-of-Words"
      ],
      "metadata": {
        "id": "VEJDAbF9Sv2w"
      }
    },
    {
      "cell_type": "markdown",
      "source": [
        "##### Import Library"
      ],
      "metadata": {
        "id": "PBQNYzfKXE0o"
      }
    },
    {
      "cell_type": "code",
      "source": [
        "# Library\n",
        "import nltk\n",
        "nltk.download(\"popular\")\n",
        "from nltk.tokenize import sent_tokenize, word_tokenize\n",
        "from nltk.corpus import stopwords\n",
        "from nltk.stem import WordNetLemmatizer\n",
        "from sklearn.feature_extraction.text import CountVectorizer\n",
        "from collections import Counter"
      ],
      "metadata": {
        "colab": {
          "base_uri": "https://localhost:8080/"
        },
        "id": "CLxWm4jhJf_U",
        "outputId": "c193fe2f-3b76-4a3b-e94d-0a55fb6d4df1"
      },
      "execution_count": null,
      "outputs": [
        {
          "output_type": "stream",
          "name": "stderr",
          "text": [
            "[nltk_data] Downloading collection 'popular'\n",
            "[nltk_data]    | \n",
            "[nltk_data]    | Downloading package cmudict to /root/nltk_data...\n",
            "[nltk_data]    |   Unzipping corpora/cmudict.zip.\n",
            "[nltk_data]    | Downloading package gazetteers to /root/nltk_data...\n",
            "[nltk_data]    |   Unzipping corpora/gazetteers.zip.\n",
            "[nltk_data]    | Downloading package genesis to /root/nltk_data...\n",
            "[nltk_data]    |   Unzipping corpora/genesis.zip.\n",
            "[nltk_data]    | Downloading package gutenberg to /root/nltk_data...\n",
            "[nltk_data]    |   Unzipping corpora/gutenberg.zip.\n",
            "[nltk_data]    | Downloading package inaugural to /root/nltk_data...\n",
            "[nltk_data]    |   Unzipping corpora/inaugural.zip.\n",
            "[nltk_data]    | Downloading package movie_reviews to\n",
            "[nltk_data]    |     /root/nltk_data...\n",
            "[nltk_data]    |   Unzipping corpora/movie_reviews.zip.\n",
            "[nltk_data]    | Downloading package names to /root/nltk_data...\n",
            "[nltk_data]    |   Unzipping corpora/names.zip.\n",
            "[nltk_data]    | Downloading package shakespeare to /root/nltk_data...\n",
            "[nltk_data]    |   Unzipping corpora/shakespeare.zip.\n",
            "[nltk_data]    | Downloading package stopwords to /root/nltk_data...\n",
            "[nltk_data]    |   Unzipping corpora/stopwords.zip.\n",
            "[nltk_data]    | Downloading package treebank to /root/nltk_data...\n",
            "[nltk_data]    |   Unzipping corpora/treebank.zip.\n",
            "[nltk_data]    | Downloading package twitter_samples to\n",
            "[nltk_data]    |     /root/nltk_data...\n",
            "[nltk_data]    |   Unzipping corpora/twitter_samples.zip.\n",
            "[nltk_data]    | Downloading package omw to /root/nltk_data...\n",
            "[nltk_data]    | Downloading package omw-1.4 to /root/nltk_data...\n",
            "[nltk_data]    | Downloading package wordnet to /root/nltk_data...\n",
            "[nltk_data]    | Downloading package wordnet2021 to /root/nltk_data...\n",
            "[nltk_data]    | Downloading package wordnet31 to /root/nltk_data...\n",
            "[nltk_data]    | Downloading package wordnet_ic to /root/nltk_data...\n",
            "[nltk_data]    |   Unzipping corpora/wordnet_ic.zip.\n",
            "[nltk_data]    | Downloading package words to /root/nltk_data...\n",
            "[nltk_data]    |   Unzipping corpora/words.zip.\n",
            "[nltk_data]    | Downloading package maxent_ne_chunker to\n",
            "[nltk_data]    |     /root/nltk_data...\n",
            "[nltk_data]    |   Unzipping chunkers/maxent_ne_chunker.zip.\n",
            "[nltk_data]    | Downloading package punkt to /root/nltk_data...\n",
            "[nltk_data]    |   Unzipping tokenizers/punkt.zip.\n",
            "[nltk_data]    | Downloading package snowball_data to\n",
            "[nltk_data]    |     /root/nltk_data...\n",
            "[nltk_data]    | Downloading package averaged_perceptron_tagger to\n",
            "[nltk_data]    |     /root/nltk_data...\n",
            "[nltk_data]    |   Unzipping taggers/averaged_perceptron_tagger.zip.\n",
            "[nltk_data]    | \n",
            "[nltk_data]  Done downloading collection popular\n"
          ]
        }
      ]
    },
    {
      "cell_type": "markdown",
      "source": [
        "##### Training Article"
      ],
      "metadata": {
        "id": "mOnwEnV2XHGr"
      }
    },
    {
      "cell_type": "code",
      "execution_count": null,
      "metadata": {
        "id": "vXK9X8r18dKY",
        "colab": {
          "base_uri": "https://localhost:8080/"
        },
        "outputId": "cdd6cfc9-7531-4266-89ce-65d4c6f5db83"
      },
      "outputs": [
        {
          "output_type": "stream",
          "name": "stdout",
          "text": [
            "{'13', 'Thursday', 'raising', 'act', 'FDI', 'aim', 'considering', 'indicating', \"'\", 'reported', 'look', 'process', 'crew', 'Nusantara', 'Not', 'breach', 'broke', '400,000', 'systematically', 'pathway', 'complete', 'second', 'outfit', 'outing', 'unfortunately', 'medicine', 'added', 'investor', 'net', 'fully', 'Basketball', 'seasonal', 'providing', 'Pratama', 'Ministry', 'Proposals', 'facility', 'coming', 'stating', 'taken', 'Datuk', 'winning', 'U-23', 'Asian', 'prompt', 'predict', 'Gilbert', 'adapted', 'holiday', 'team', 'hike', 'course', 'Presenting', 'come', 'session', 'utilising', 'despite', 'resource', 'became', 'capital', 'export', 'industrial', '1099-DA', 'Ahmad', 'subtle', 'The', 'provide', '10', 'among', 'EFF', '22.43', 'Khalifa', 'Kong', 'thing', 'boosted', 'early', 'reach', 'household', 'teaching', 'still', 'relevant', 'Service', 'Investment', 'Confidence', '45th', 'country', 'Biden', 'bonus', 'manufacturing', 'Shin', 'appointment', 'responsibility', 'continued', 'night', 'later', 'whole', 'ended', 'referee', 'meeting', 'interpersonal', 'trigger', 'reflecting', 'reached', 'Korean', 'foul', 'gap', 'Struick', 'June', 'express', 'nailed', 'easy', 'advantage', 'left', '52-50', 'third', 'collapse', 'made', 'An', 'dividend', 'afterward', 'activity', 'due', 'utilises', '12', 'party', 'strategic', 'Shortly', 'short', 'significantly', 'income', 'en', 'Internal', 'advisor', 'encountered', 'general', 'way', 'covered', 'Witan', 'government', 'Hubner', 'law', 'various', 'play', 'assured', 'triage', 'opportunity', 'victorious', 'scoring', 'forward', 'followed', 'crucial', 'see', 'Yiu', 'Fajar', 'visit', 'efficiency', 'population', 'penalty', 'percentage', 'Dr.', 'tax', 'high', 'contraction', 'index', 'Muhamad', 'formal', 'numerous', 'in-house', 'U.S.', 'improvement', 'corner', 'civil', 'Joe', 'vulnerability', 'above-mentioned', 'IBL', 'Fahmi', 'reduce', 'good', 'matter', '2-1', '3.64', 'apply', 'contains', 'tormentor', 'header', 'Ramadan', 'chance', 'Receiving', 'history', 'require', 'dubbed', 'PPP', 'Mulyani', 'experienced', 'appears', 'main', 'A1', 'Hester', 'mild', 'enhancing', 'A', 'long-term', 'February', 'structural', '15', 'United', 'reigning', 'alert', 'apiece', 'decision', 'saw', 'At', 'Antonio', 'space', 'announced', 'In', 'experience', 'last', 'expected', 'practitioner', 'half', 'empathic', 'plan', 'individual', 'purchasing', 'Prawira', 'year', 'game', 'He', 'stakeholder', 'crossbar', 'psychology', 'IRS', 'sector', 'WellNUS©', 'likely', 'token', 'address', 'propose', 'Stadium', 'explained', 'Gist', 'clarify', 'disallowed', 'Yale-NUS', 'Hassim', '‘', 'graduating', 'combining', 'Lee', 'secured', '$', 'press', 'went', 'loss', 'external', 'staffed', 'Dr', 'Education', 'Deers', 'also', 'ensure', 'assignment', 'soon', 'push', 'attributed', 'potential', 'staff', 'First', 'Pelita', 'Round', 'fruition', 'report', 'BritAma', 'comprehensive', 'footnote', 'without', '%', 'period', 'place', 'Chris', 'training', 'simplifying', 'would', 'strong', 'equipped', '21', 'Third', 'Q1', 'Jong-bum', 'direct', 'salary', 'developing', 'decrease', 'presence', 'status', 'better', 'federal', '123.8', '2.6', 'Wednesday', 'emergency', 'semifinal', 'beyond', 'hometown', 'Division', 'VAR', 'lockdown', 'meanwhile', 'Young-jun', \"'s\", 'help', 'beat', 'trillion', 'study', 'increased', 'Staff', 'navigate', 'Seri', 'recognition', 'behind', 'deceived', 'grow', 'PSN', 'Cup', 'momentum', 'Baek', 'guard', '1.65', 'netting', 'Ismail', 'classroom', 'totaled', 'late', 'available', 'Francis', 'first', 'involving', 'liability', 'president', 'threshold', 'aimed', 'find', 'overcame', 'Faculty', 'investment', 'practising', 'tie', 'established', 'playing', 'may', 'wellbeing', 'side', 'Medical', 'Chambers', 'identify', 'start', 'registration', 'crypto', 'Early', 'missed', 'strategy', 'recorded', 'Tuesday', 'academic', 'organised', 'defeating', 'record', 'get', 'stunned', '1.2', 'equalized', 'Harum', 'lead', '1971', 'need', '17:30', 'January', 'significant', 'completed', 'Framework', 'code', 'powerhouse', 'university', 'effort', 'said', 'corrected', 'hindered', 'Singapore', 'rate', '“', 'economic', 'Baharu', 'BCL', 'Indonesia', 'department', 'ago', 'held', 'Asia', 'defense', 'degree', 'month', 'Aid', 'Health', 'demand', 'winner', 'servant', 'multiple', 'framework', 'importance', 'Eid', 'Yale', 'defender', 'new', 'division', 'Noor', 'social', 'six-week', 'Eastern', 'point', 'section', 'least', 'Matrix', 'NUS', 'professional', 'rest', 'Medicine', 'resolved', 'College', 'pas', 'bridge', 'Administration', 'Sri', 'route', 'created', 'Many', 'introduced', 'topic', 'reduced', 'holistic', 'rebound', 'two', 'approach', 'restored', ',', 'import', 'marking', 'support', 'understood', 'statement', 'city', 'appropriate', 'face', 'senior', 'positive', 'joining', 'assist', 'additional', 'percent', 'remain', 'spitfire', 'disagreed', 'parking', 'compared', 'Korea', 'proper', '52-43', 'submit', 'common', 'Bandung', 'bottom', 'conference', 'reflection', 'Champions', 'relationship', 'skill', 'three-pointers', '2024', 'objection', '16.4', 'advising', 'National', '72.45', 'long', 'resolve', 'League', 'bounce', 'Commenting', 'taught', ')', 'NS', 'memorandum', 'college', 'Qualifiers', 'surplus', 'top-scored', 'conversion', '35.4', 'proposed', 'President', 'regularly', 'scorer', 'million', 'raise', 'Fathurrahman', 'context', 'Selayang', 'challenge', 'April', 'double-double', 'deadlock', 'form', '’', 'Cabinet', 'star', 'lost', 'turmoil', 'performance', 'increasing', 'one-goal', 'remains', 'Consumer', 'Kubu', 'highest', 'different', '(', '53-50', 'growth', '68th', 'Government', 'counselling', 'manner', 'across', 'reporting', 'initially', 'follow-up', 'three', 'March', 'taxable', 'driven', 'led', 'day', 'budget', 'extend', 'take', 'Second', 'election', 'enhance', 'pharmacy', 'health', 'ordinary', 'inflation', 'Capital', 'earner', 'ministry', 'occurring', 'quite', '8th', 'anxiety', 'Indonesian', 'split', 'includes', 'Jaya', 'aligned', 'player', 'Just', 'substitution', 'CCI', 'issue', 'since', 'placement', 'Success', '.', 'consumer', 'turn', 'fiscal', 'shortage', 'inevitable', 'Ari', 'emphasised', 'quarter-finals', 'predicts', 'involves', 'IKN', 'often', 'revealed', 'battle', 'parallel', 'outside', 'KKB', '12.76', 'centre', 'manager', 'wallet', 'left-footed', 'third-quarter', 'match', 'committed', 'administration', 'fill', 'freedom', 'collaborative', 'Jakarta', 'trey', 'needing', 'emerged', 'Meeting', 'Ivar', 'economy', 'Arena', 'resident', 'quarter', 'Rafael', 'Brandone', 'told', 'order', 'ahead', 'affair', 'phase', 'spot', 'effect', 'tear', 'another', 'marked', 'stand', 'personal', 'Arhan', 'University', 'active', 'aspect', 'South', '37-34', 'referral', '2-2', 'Minister', '17.96', 'May', 'Now', '7', 'Rp', '18-5', 'opponent', 'unit', 'business', 'often-stressful', 'proposal', 'including', 'Previously', 'for-credit', 'burden', 'application', 'adversity', 'residential', 'Kuala', 'Group', 'following', 'block', 'nine', 'goal', 'specialist', 'utilise', 'digital', 'received', 'Professors', 'Dominic', '20:00', 'qualified', 'impacted', '4.19', 'treatment', 'Students', '39.6', 'gained', 'view', 'stress', 'Hong', 'constrained', 'legal', 'States', 'took', '2025', 'champion', 'Mental', 'amending', 'consumption', 'surged', '1.9', 'minute', 'I', 'linked', 'sign', 'MOHE', '19', 'programme', 'necessary', 'Yip', 'Year', 'ball', 'Sharing', '44.6', 'Hospital', 'towards', 'system', 'access', 'faculty', 'Team', 'Indra', 'try', 'draft', 'expert', '11-10', 'foreign', 'Index', 'coach', 'Revenue', '120', 'billion', 'local', 'box', '4.47', 'head', 'offside', 'transaction', 'balance', 'internal', 'finding', 'leading', '2', 'give', 'distribution', 'controlled', 'asset', '44-38', 'Dzulkefly', 'key', 'reversal', 'Pong', 'Abdullah', \"'Overall\", 'go', '37', 'review', 'goalkeeper', 'together', 'Amid', 'map', 'fell', '9', 'increase', 'found', 'Parliament', 'disqualifying', 'establish', 'opinion', 'confidence', 'Facing', 'opening', 'collectively', 'Explanations', 'jumper', 'end', 'one', 'shootout', 'seminar-style', 'position', '2023', 'triple', 'engagement', 'back', 'gatekeeper', 'Administrators', '4', 'like', 'maneuver', 'attempting', 'correction', 'Ernando', 'global', 'Per', 'target', 'elective', 'never', 'James', 'medical', 'PMI', 'read', 'liberal', 'office', 'Attorney', 'turbulence', 'There', 'Sulaeman', 'manage', 'initiative', 'possible', 'joint', 'service', 'Jenner', 'spending', 'project', 'seek', 'hour', 'equip', 'colleague', 'listening', 'Saputera', 'plus', 'facilitating', '8', 'engage', 'Act', 'virtually', 'distress', 'Resilience', 'marginal', 'national', 'al-Fitr', 'Higher', 'within', 'strongly', 'Example', 'policy', 'successfully', 'Friday', 'shot', 'victory', '1', 'percent.', 'Yudha', 'tried', 'first-year', '50', 'working', 'jointly', 'McLaughlin', 'Tae-yong', 'trade', 'include', 'addressing', 'lower-level', 'mental', 'Anyone', \"'Supported\", 'However', 'amend', 'structured', 'separate', 'future', '15th', 'final', 'gain', 'deflected', 'Rio', 'progress', 'Forbes', '2021', '24', 'surrounding', 'understand', 'alongside', 'putting', 'Teguh', 'Indrawati', 'explain', 'While', 'Fiscal', 'congestion', 'pursuing', 'student', 'THR', 'ignoring', 'prevented', 'trained', 'struggle', 'General', 'number', 'cautious', 'bin', 'field', 'art', 'campaign', 'stood', 'well', 'Therefore', 'chairman', 'dribbling', 'Finance', 'Prof', 'emotional', '17', 'sustainable', 'public', 'could', 'line', 'make', 'development', '5.17', 'currently', 'steal', 'Household', 'specific', 'assistant', 'amendment', 'information', 'Marselino', 'serving', 'Together', 'time', 'triumphant', 'many', 'transitioning', 'top', '”', 'discussion', 'institution', 'mention', 'double-digit', 'It', 'MOH', 'sailed', 'strength', 'purpose', '…', 'Doha', 'weak', '4:13', 'respond', 'today', 'impact', 'This', 'harsh', 'taxpayer', 'replacing', 'Komang', 'Cement', 'healthcare', 'conducting', 'electricity', 'Meanwhile', 'Session', 'recognise', '3', 'proposing'}\n",
            "['Sharing responsibility mental health support across institution reduce burden university counselling centre . Yale-NUS College , residential liberal art institution jointly established Yale University National University Singapore , utilises trained student affair staff academic advisor triage manage lower-level mental health issue including mild form academic stress social anxiety . Staff complete in-house training organised counselling colleague extend training external programme Mental Health First Aid . In 2021 , increasing number teaching faculty encountered mental health struggle among student , Yale-NUS introduced ‘ gatekeeper training ’ covered recognise sign emotional distress , taught empathic active listening skill explained various resource available student . Faculty teaching assistant often first recognise student mental health issue since engage student regularly classroom , advising appointment office hour . Administrators ensure faculty access utilise internal referral system alert appropriate staff professional follow-up necessary . NUS understood importance involving multiple stakeholder created WellNUS© Mental Health Framework 2021 systematically map different aspect wellbeing identify relevant initiative key stakeholder provide support . The aim framework holistic , structured sustainable approach towards student staff wellbeing . In 2021 , Yale-NUS introduced for-credit “ Resilience Success College ” elective course first-year student order equip strategy respond inevitable challenge adversity face college . Example topic include finding purpose , utilising strength , practising vulnerability developing positive interpersonal relationship . The course later adapted graduating senior help support often-stressful phase transitioning college . The six-week course collaborative effort student affair division psychology faculty seminar-style classroom discussion assignment emphasised personal reflection application . Students completed six-week course reported better equipped navigate future issue understand support resource available .', \"Prawira Harum Bandung overcame adversity stunned Hong Kong Eastern Basketball Team , 53-50 , triumphant start Round 2 campaign Basketball Champions League Asia ( BCL Asia ) Qualifiers , Tuesday night BritAma Arena . The reigning Indonesian Basketball League ( IBL ) champion lost star scorer Brandone Francis 15 second third quarter due disqualifying foul . However , became opportunity whole crew play collectively soon get back Round 1 tormentor . Prawira went 18-5 scoring tear whole quarter head final period ahead , 44-38 , momentum never left side rest way en route joining another IBL outfit Pelita Jaya Basketball Round 2 opening night winner . Antonio Hester top-scored hometown side 19 point 15 rebound . James Gist fell short double-double outing 9 point 13 rebound , together 3 assist , 4 steal , 3 block way netting efficiency ( EFF ) 21 . Indra Muhamad 8 point Yudha Saputera added 7 point spitfire guard nailed two three-pointers apiece help third-quarter reversal . Saputera nailed trey tie thing Muhamad followed triple give 37-34 lead 4:13 left , putting ahead good , Prawira would lead many nine , 52-43 , late game behind jumper Gist . Now look forward meeting Pelita Jaya Wednesday , April 24 , 20:00 local time , winner virtually assured spot BCL Asia proper . Chris McLaughlin , meanwhile , led Hong Kong Eastern 17 point 10 rebound . Yiu Pong Yip double-digit scorer 12 collapse . The reigning Hong Kong A1 Division champion still tried come back coming within field goal , 52-50 , following Dominic Gilbert 's conversion 35.4 second left , split Saputera plus Prawira 's lockdown defense prevented coming back . Hong Kong Eastern try bounce back NS Matrix Deers Wednesday well 17:30 local time battle team coming loss .\", 'United States President Joe Biden proposed raise capital gain tax 44.6 % , marking highest formal federal capital tax history . Per Forbes report , proposal added Biden ’ budget proposal 2025 fiscal year . A footnote General Explanations Administration ’ Fiscal Year 2025 Revenue Proposals read “ A separate proposal would first raise top ordinary rate 39.6 percent … An additional proposal would increase net investment income tax rate 1.2 percentage point $ 400,000 … Together , proposal would increase top marginal rate long-term capital gain qualified dividend 44.6 percent. ” There main proposal give context above-mentioned statement involves raising long-term capital gain qualified dividend rate 37 % taxpayer . This taxpayer taxable income $ 1 million . The potential 44.6 % rate come fruition possible different proposal president ’ administration ’ main capital gain rate increase . In like manner , rate would apply taxable income $ 1 million $ 400,000 investment income . Presenting capital gain rate proposal subtle policy maneuver likely trigger high percentage ignoring crucial aspect income threshold . It appears policy attempting place high ordinary income investment income earner common playing field . Amid administration ’ push hike tax , many business individual may impacted may turn digital asset help experience economic freedom . At least , law crypto tax reporting fully taken effect , require tax rate high Biden proposing . The U.S. Internal Revenue Service ( IRS ) revealed early draft new tax form reporting crypto transaction day ago . The form , dubbed 1099-DA , aimed facilitating simplifying tax liability linked crypto transaction . It take record taxable gain loss contains section mention specific token code , wallet address , transaction information . Many investor likely find form easy fill , considering tax expert took time explain appropriate approach .', \"The Ministry Health ( MOH ) stand decision amend Medical Act 1971 ( Act 50 ) bridge gap parallel pathway programme ( PPP ) local medical degree programme , despite objection party . Health Minister Datuk Seri Dr. Dzulkefly Ahmad said conducting comprehensive engagement session Ministry Higher Education ( MOHE ) , found necessary make amendment act . He said ministry also received legal view Attorney General 's Chambers . “ Anyone express opinion , MOH MOHE aligned matter , line comprehensive joint study engagement . Therefore , soon submit proposed amendment memorandum Cabinet . “ This process pursuing resolve issue , clarify status programme address shortage medical professional serving government healthcare facility across country , “ told press conference working visit Kuala Kubu Baharu ( KKB ) Hospital today . In early April , Dr Dzulkefly announced MOH would propose amendment Act 50 ensure prompt registration recognition medical professional trained PPP , later Second Meeting Third Session 15th Parliament June year . However , Group Professors Health Medicine , led chairman , Prof Dr. Noor Hassim Ismail , disagreed , stating gap PPP local medical degree programme could resolved without amending Act 50 . Commenting visit KKB Hospital today , Dr Dzulkefly said improvement healthcare service , placement general medical practitioner since January last year , successfully reduced congestion Selayang Hospital . “ Previously , specialist , KKB resident go Selayang Hospital treatment . Now , presence medical specialist , I see gained confidence seek treatment , “ said . “ Not , enhance healthcare service KKB , plan establish emergency department ( currently emergency unit ) staffed emergency medicine specialist early May , “ said . Dr Dzulkefly said aspect needing improvement government healthcare facility KKB include enhancing service surrounding population includes addressing congestion pharmacy unit providing additional parking space .\", \"The Indonesia U-23 national team made history defeating South Korea penalty shootout quarter-finals U-23 Asian Cup . Indonesia emerged victorious penalty shootout , winning 11-10 match ended 2-2 following 120 minute play . This victory secured Indonesia 's place semifinal . The match , held Abdullah bin Khalifa Stadium Doha Thursday ( early Friday Jakarta time ) , saw South Korea initially breach Indonesia 's goal 8th minute . However , VAR review , goal disallowed referee due South Korean player offside position . Facing Asian powerhouse , Indonesia broke deadlock 15th minute . Rafael Struick 's shot outside penalty box found bottom left corner South Korean goal , beyond reach goalkeeper Baek Jong-bum . The one-goal advantage boosted Indonesia 's confidence . Marselino created good opportunity combining Witan Sulaeman , unfortunately , Marselino 's shot sailed South Korean crossbar . South Korea equalized 45th minute header deflected Komang Teguh Ernando Ari 's goal . Just end first half , Struick restored Indonesia 's lead . Receiving long pas Ivar Jenner , controlled ball , deceived opponent 's defender , beat goalkeeper Baek left-footed shot . The first half ended Indonesia leading 2-1 . Early second half , Indonesia three good chance , two shot Struick one Pratama Arhan missed target . Marselino another good chance dribbling left side , shot found side netting South Korean goal . Shortly afterward , coach Shin Tae-yong made first substitution , replacing Rio Fahmi Fajar Fathurrahman . In 68th minute , Lee Young-jun committed harsh foul Hubner .\", \"Finance Minister Sri Mulyani Indrawati predicts Indonesia 's economic growth first quarter 2024 reach 5.17 percent , driven strong household consumption . However , growth still constrained performance export import , often face contraction due impact global economic turmoil . 'Supported strong performance consumer , manufacturing , well foreign direct investment ( FDI ) purchasing manager index ( PMI ) , predict growth Q1 2024 5.17 percent . However , remain cautious turbulence occurring global economy , ' said Sri Mulyani press conference office Friday . Government consumption expected grow strongly first quarter driven election spending , salary increase civil servant , distribution holiday bonus ( THR ) first quarter . Household consumption also increased significantly line election activity , THR spending , controlled inflation . The Consumer Confidence Index ( CCI ) March 2024 recorded 123.8 , indicating continued consumption growth . While electricity consumption business remains positive , contraction industrial sector . Sri Mulyani attributed contraction numerous public holiday Eid al-Fitr . Cement consumption , surged two month ago , corrected 1.9 percent growth March . 'Overall , consumer spending quite good , need remain cautious sector experienced correction , seasonal , Ramadan Eid , structural long-term correction , ' said Sri Mulyani . Investment expected increase alongside progress national strategic project ( PSN ) development new capital city , Nusantara Capital ( IKN ) . Meanwhile , export import activity still hindered weak global demand . Indonesia 's trade balance recorded surplus $ 4.47 billion ( Rp 72.45 trillion ) March 2024 , $ 3.64 billion February 2024 . This marked significant increase March 2023 , stood $ 1.65 billion . March 2024 export reached $ 22.43 billion , marking 16.4 percent increase February 2024 , 4.19 percent contraction compared March 2023 . Meanwhile , import March 2024 totaled $ 17.96 billion , reflecting 2.6 percent decrease February 2024 12.76 percent decrease February 2023 .\"]\n"
          ]
        }
      ],
      "source": [
        "# Article for training set\n",
        "medical = \"Sharing the responsibility for mental health support across an institution can reduce the burden on a university counselling centre. Yale-NUS College, a residential liberal arts institution jointly established by Yale University and the National University of Singapore, utilises trained student affairs staff and academic advisors to triage and manage lower-level mental health issues including mild forms of academic stress and social anxiety.  Staff complete in-house training organised by counselling colleagues and some extend their training through external programmes such as Mental Health First Aid. In 2021, as an increasing number of teaching faculty encountered mental health struggles among their students, Yale-NUS introduced ‘gatekeeper training’ that covered how to recognise signs of emotional distress, taught empathic and active listening skills and explained the various resources available to students. Faculty and teaching assistants are often the first to recognise student mental health issues since they engage with students regularly in the classroom, at advising appointments and during office hours. Administrators should ensure faculty have access to and utilise an internal referral system that alerts the appropriate staff when professional follow-up is necessary. NUS understood the importance of involving multiple stakeholders when they created the WellNUS© Mental Health Framework in 2021 to systematically map out the different aspects of wellbeing and identify the relevant initiatives and key stakeholders that can provide support. The aim of the framework is to have a more holistic, structured and sustainable approach towards student and staff wellbeing. In 2021, Yale-NUS introduced a for-credit “Resilience and Success in College” elective course for first-year students in order to equip them with strategies to respond to the inevitable challenges and adversity that they will face during college.  Example topics include finding purpose, utilising strengths, practising vulnerability and developing positive interpersonal relationships. The course was later adapted for graduating seniors to help support them through the often-stressful phase of transitioning out of college. The six-week course was a collaborative effort between the student affairs division and the psychology faculty with seminar-style classroom discussions and assignments that emphasised personal reflection and application. Students who completed the six-week course reported that they were better equipped to navigate future issues and understand what support resources are available to them.\"\n",
        "sport = \"Prawira Harum Bandung overcame adversity and stunned Hong Kong Eastern Basketball Team, 53-50, for a triumphant start to their Round 2 campaign in the Basketball Champions League Asia (BCL Asia) Qualifiers, Tuesday night at the BritAma Arena. The reigning Indonesian Basketball League (IBL) champions lost star scorer Brandone Francis just 15 seconds into the third quarter due to a disqualifying foul. However, that became an opportunity for the whole crew to play collectively and soon get back on their Round 1 tormentors. Prawira went on an 18-5 scoring tear in that whole quarter to head into the final period ahead, 44-38, and momentum never left their side the rest of the way en route to joining another IBL outfit in Pelita Jaya Basketball as the Round 2 opening night winners. Antonio Hester top-scored for the hometown side with 19 points and 15 rebounds. James Gist fell just short of a double-double outing with 9 points and 13 rebounds, together with 3 assists, 4 steals, and 3 blocks on his way to netting an efficiency (EFF) of 21. Indra Muhamad had 8 points while Yudha Saputera added 7 points as the spitfire guards nailed two three-pointers apiece to help out in the third-quarter reversal. Saputera nailed a trey to tie things up and Muhamad followed it up with a triple of his own to give themselves the 37-34 lead with 4:13 left, putting them ahead for good, Prawira would lead by as many as nine, 52-43, late in the game behind a jumper by Gist. Now they look forward to their meeting against Pelita Jaya on Wednesday, April 24, 20:00 local time, with the winner virtually assured of a spot in the BCL Asia proper. Chris McLaughlin, meanwhile, led Hong Kong Eastern with 17 points and 10 rebounds. Yiu Pong Yip was the only other double-digit scorer with 12 in the collapse. The reigning Hong Kong A1 Division champions still tried to come back by coming within just a field goal, 52-50, following Dominic Gilbert's conversion with 35.4 seconds left, but a split by Saputera plus Prawira's lockdown defense prevented them from coming back. Hong Kong Eastern will try to bounce back against the NS Matrix Deers on Wednesday as well at 17:30 local time in a battle of teams coming off losses.\"\n",
        "finance = \"United States President Joe Biden has proposed to raise capital gains tax to about 44.6%, marking the highest formal federal capital tax in history. Per a Forbes report, this proposal was added to Biden’s budget proposal for the 2025 fiscal year. A footnote from the General Explanations of the Administration’s Fiscal Year 2025 Revenue Proposals reads “A separate proposal would first raise the top ordinary rate to 39.6 percent … An additional proposal would increase the net investment income tax rate by 1.2 percentage points above $400,000 … Together, the proposals would increase the top marginal rate on long-term capital gains and qualified dividends to 44.6 percent.” There is a main proposal which gives context to the above-mentioned statement and this involves raising the long-term capital gains and qualified dividends rates to 37% for taxpayers. This is for taxpayers with taxable income above $1 million. The potential of having the 44.6% rate come to fruition is only possible under a different proposal from the president’s administration’s main capital gains rate increase. In like manner, this rate would apply to only those who have taxable incomes of $1 million and $400,000 in investment income. Presenting such a capital gains rate proposal is a subtle policy maneuver that will likely trigger a high percentage while ignoring the crucial aspect of income thresholds. It appears that the policy is attempting to place high ordinary income and investment income earners on a common playing field. Amid the administration’s push to hike taxes, many of the businesses and individuals that may be impacted may turn to digital assets to help them experience economic freedom. At least, the laws of crypto tax reporting have not fully taken effect, nor does it require a tax rate as high as what Biden is proposing. The U.S. Internal Revenue Service (IRS) revealed an early draft of a new tax form for reporting crypto transactions a few days ago. The form, dubbed 1099-DA, is aimed at facilitating and simplifying tax liabilities linked to crypto transactions. It takes a record of taxable gains or losses and contains some sections to mention specific token codes, wallet addresses, and other transaction information. Many investors are likely to find the form easy to fill, considering that some tax experts took time out to explain the appropriate approach to do so.\"\n",
        "\n",
        "# Article for test set\n",
        "medical_test = \"The Ministry of Health (MOH) stands by its decision to amend the Medical Act 1971 (Act 50) to bridge the gap between the parallel pathway programme (PPP) and the local medical degree programme, despite objections from some parties. Health Minister Datuk Seri Dr. Dzulkefly Ahmad said after conducting a comprehensive engagement session with the Ministry of Higher Education (MOHE), it was found necessary to make amendments to the act. He said the ministry has also received legal views from the Attorney General's Chambers. “Anyone can express their opinion, but both MOH and MOHE are aligned on this matter, in line with the comprehensive joint study and engagement. Therefore, we will soon submit this proposed amendment memorandum to the Cabinet. “This is the process we are pursuing to resolve the issue, to clarify the status of both programmes and to address the shortage of medical professionals serving in government healthcare facilities across the country,“ he told a press conference after a working visit to Kuala Kubu Baharu (KKB) Hospital here today. In early April, Dr Dzulkefly announced that the MOH would propose amendments to Act 50 to ensure prompt registration and recognition of medical professionals trained under the PPP, no later than the Second Meeting of the Third Session of the 15th Parliament in June this year. However, the Group of Professors of Health and Medicine, led by its chairman, Prof Dr. Noor Hassim Ismail, disagreed, stating that the gap between the PPP and the local medical degree programme could be resolved without amending Act 50. Commenting on his visit to KKB Hospital today, Dr Dzulkefly said improvements in healthcare services, such as the placement of general medical practitioners since January last year, have successfully reduced congestion at Selayang Hospital. “Previously, there were no specialists here, so KKB residents had to go to Selayang Hospital for treatment. Now, with the presence of medical specialists, I see that we have gained their confidence to seek treatment here,“ he said. “Not only that, to enhance healthcare services at KKB, we plan to establish an emergency department (currently only an emergency unit) staffed with emergency medicine specialists by early May,“ he said. Dr Dzulkefly said other aspects needing improvement in government healthcare facilities in KKB include enhancing services for the surrounding population which includes addressing congestion in the pharmacy unit and providing additional parking spaces.\"\n",
        "sport_test = \"The Indonesia U-23 national team made history by defeating South Korea in a penalty shootout during the quarter-finals of the U-23 Asian Cup. Indonesia emerged victorious in the penalty shootout, winning 11-10 after the match ended 2-2 following 120 minutes of play. This victory secured Indonesia's place in the semifinals. The match, held at the Abdullah bin Khalifa Stadium in Doha on Thursday (early Friday in Jakarta time), saw South Korea initially breach Indonesia's goal in the 8th minute. However, after a VAR review, the goal was disallowed by the referee due to the South Korean player being in an offside position. Facing the Asian powerhouse, Indonesia broke the deadlock in the 15th minute. Rafael Struick's shot from outside the penalty box found the bottom left corner of the South Korean goal, beyond the reach of goalkeeper Baek Jong-bum. The one-goal advantage boosted Indonesia's confidence. Marselino created a good opportunity after combining with Witan Sulaeman, but unfortunately, Marselino's shot sailed over the South Korean crossbar. South Korea equalized in the 45th minute through a header that deflected off Komang Teguh and into Ernando Ari's goal. Just before the end of the first half, Struick restored Indonesia's lead. Receiving a long pass from Ivar Jenner, he controlled the ball, deceived the opponent's defender, and then beat goalkeeper Baek with a left-footed shot. The first half ended with Indonesia leading 2-1. Early in the second half, Indonesia had three good chances, but two shots from Struick and one from Pratama Arhan missed the target. Marselino had another good chance when dribbling on the left side, but his shot found only the side netting of the South Korean goal. Shortly afterward, coach Shin Tae-yong made the first substitution, replacing Rio Fahmi with Fajar Fathurrahman. In the 68th minute, Lee Young-jun committed a harsh foul on Hubner.\"\n",
        "finance_test = \"Finance Minister Sri Mulyani Indrawati predicts Indonesia's economic growth in the first quarter of 2024 will reach 5.17 percent, driven by strong household consumption. However, this growth is still constrained by the performance of exports and imports, which often face contractions due to the impact of global economic turmoil. 'Supported by strong performance from consumers, manufacturing, as well as foreign direct investment (FDI) and the purchasing managers index (PMI), we predict our growth for Q1 2024 to be at 5.17 percent. However, we remain cautious about the turbulence occurring in the global economy,' said Sri Mulyani during a press conference at her office on Friday. Government consumption is expected to grow strongly in the first quarter driven by election spending, salary increases for civil servants, and the distribution of holiday bonuses (THR) in the first quarter. Household consumption also increased significantly in line with election activities, THR spending, and controlled inflation. The Consumer Confidence Index (CCI) in March 2024 was recorded at 123.8, indicating continued consumption growth. While electricity consumption for businesses remains positive, there was a contraction in the industrial sector. Sri Mulyani attributed this contraction to the numerous public holidays before Eid al-Fitr. Cement consumption, which surged two months ago, corrected to 1.9 percent growth in March. 'Overall, consumer spending is quite good, but we need to remain cautious because some sectors experienced corrections, both seasonal, such as Ramadan and Eid, and structural long-term corrections,' said Sri Mulyani. Investment is expected to increase alongside the progress of national strategic projects (PSN) and the development of the new capital city, Nusantara Capital (IKN). Meanwhile, export and import activities are still hindered by weak global demand. Indonesia's trade balance recorded a surplus of $4.47 billion (Rp 72.45 trillion) in March 2024, up from $3.64 billion in February 2024. This marked a significant increase from March 2023, which stood at $1.65 billion. March 2024 exports reached $22.43 billion, marking a 16.4 percent increase from February 2024, but a 4.19 percent contraction compared to March 2023. Meanwhile, imports in March 2024 totaled $17.96 billion, reflecting a 2.6 percent decrease from February 2024 and a 12.76 percent decrease from February 2023.\"\n",
        "\n",
        "texts = [medical, sport, finance, medical_test, sport_test, finance_test]\n",
        "bow_keys = []\n",
        "corpus_texts = []\n",
        "\n",
        "lemmatizer = WordNetLemmatizer()\n",
        "for text in texts:\n",
        "  words = word_tokenize(text) # Tokenize the text into individual words\n",
        "  texts = [lemmatizer.lemmatize(word) for word in words if word not in set(stopwords.words('english'))] # Lemmatize each word and filter out English stopwords\n",
        "  bow_keys += texts # Store the lemmatized words\n",
        "  text = ' '.join(texts) # Join the lemmatized words back into a single string for each text\n",
        "  corpus_texts.append(text)\n",
        "\n",
        "bow_keys = set(bow_keys) # Update the bow_keys list\n",
        "\n",
        "# Print result\n",
        "print(bow_keys)\n",
        "print(corpus_texts)"
      ]
    },
    {
      "cell_type": "markdown",
      "source": [
        "Dalam loop for, terdapat perlakuan sebagai berikut:\n",
        "\n",
        "1. Setiap teks dari texts di-tokenisasi menjadi kata-kata menggunakan word_tokenize.\n",
        "\n",
        "2. Kemudian, dilakukan lemmatisasi untuk setiap kata dalam teks menggunakan lemmatizer.lemmatize(word) untuk mengubah kata-kata ke bentuk dasar.\n",
        "Kata-kata yang bukan stop words (kata-kata umum yang tidak memberikan banyak informasi seperti \"the\", \"is\", \"and\", dsb.) disimpan dalam variabel texts.\n",
        "\n",
        "3. Setiap kata yang sudah diproses ditambahkan ke list bow_keys yang merupakan bag-of-words keys.\n",
        "\n",
        "4. Teks yang sudah diproses dan digabungkan kembali diubah menjadi teks utuh dan ditambahkan ke list corpus_texts.\n",
        "\n",
        "Kemudian setelah selesai melakukan preprocessing, pada set(bow_keys) digunakan untuk menghilangkan kata-kata duplikat dari bag-of-words keys. Hasil bag-of-words keys yang sudah dibersihkan ditampilkan menggunakan print(bow_keys) dan hasil teks yang sudah diproses digabungkan kembali (cleaned data) ditampilkan menggunakan print(corpus_texts)."
      ],
      "metadata": {
        "id": "EVSDYJdfBhPr"
      }
    },
    {
      "cell_type": "markdown",
      "source": [
        "##### Vektor Bag-of-Words"
      ],
      "metadata": {
        "id": "RpZJbETlXMI5"
      }
    },
    {
      "cell_type": "code",
      "source": [
        "# Initialize a dictionary to store BoW vectors for each topic\n",
        "bow_vectors = {}\n",
        "\n",
        "# Iterate over each topic's processed text corpus\n",
        "for idx, topic_text in enumerate(corpus_texts):\n",
        "    bow_vector = Counter() # Initialize a Counter to count word occurrences\n",
        "    topic_words = topic_text.split() # Tokenize the processed text\n",
        "\n",
        "    # Count occurrences of each word in the BoW keys\n",
        "    for word in topic_words:\n",
        "        if word in bow_keys:\n",
        "            bow_vector[word] += 1\n",
        "    bow_vectors[f\"Topic {idx+1}\"] = bow_vector # Store the BoW vector for the topic in the dictionary\n",
        "\n",
        "# Print the BoW vectors for each topic\n",
        "for topic, bow_vector in bow_vectors.items():\n",
        "    print(topic)\n",
        "    print(bow_vector)\n",
        "    print()"
      ],
      "metadata": {
        "colab": {
          "base_uri": "https://localhost:8080/"
        },
        "id": "87Z9qbV3VMDK",
        "outputId": "7f0c3903-3b29-48c6-b18e-52b14b7d61aa"
      },
      "execution_count": null,
      "outputs": [
        {
          "output_type": "stream",
          "name": "stdout",
          "text": [
            "Topic 1\n",
            "Counter({'.': 13, ',': 10, 'student': 8, 'mental': 4, 'health': 4, 'support': 4, 'course': 4, 'Yale-NUS': 3, 'staff': 3, 'issue': 3, 'training': 3, '2021': 3, 'faculty': 3, 'The': 3, 'institution': 2, 'counselling': 2, 'College': 2, 'University': 2, 'affair': 2, 'academic': 2, 'Mental': 2, 'Health': 2, 'In': 2, 'teaching': 2, 'introduced': 2, 'recognise': 2, 'resource': 2, 'available': 2, 'classroom': 2, 'stakeholder': 2, 'wellbeing': 2, 'college': 2, 'six-week': 2, 'Sharing': 1, 'responsibility': 1, 'across': 1, 'reduce': 1, 'burden': 1, 'university': 1, 'centre': 1, 'residential': 1, 'liberal': 1, 'art': 1, 'jointly': 1, 'established': 1, 'Yale': 1, 'National': 1, 'Singapore': 1, 'utilises': 1, 'trained': 1, 'advisor': 1, 'triage': 1, 'manage': 1, 'lower-level': 1, 'including': 1, 'mild': 1, 'form': 1, 'stress': 1, 'social': 1, 'anxiety': 1, 'Staff': 1, 'complete': 1, 'in-house': 1, 'organised': 1, 'colleague': 1, 'extend': 1, 'external': 1, 'programme': 1, 'First': 1, 'Aid': 1, 'increasing': 1, 'number': 1, 'encountered': 1, 'struggle': 1, 'among': 1, '‘': 1, 'gatekeeper': 1, '’': 1, 'covered': 1, 'sign': 1, 'emotional': 1, 'distress': 1, 'taught': 1, 'empathic': 1, 'active': 1, 'listening': 1, 'skill': 1, 'explained': 1, 'various': 1, 'Faculty': 1, 'assistant': 1, 'often': 1, 'first': 1, 'since': 1, 'engage': 1, 'regularly': 1, 'advising': 1, 'appointment': 1, 'office': 1, 'hour': 1, 'Administrators': 1, 'ensure': 1, 'access': 1, 'utilise': 1, 'internal': 1, 'referral': 1, 'system': 1, 'alert': 1, 'appropriate': 1, 'professional': 1, 'follow-up': 1, 'necessary': 1, 'NUS': 1, 'understood': 1, 'importance': 1, 'involving': 1, 'multiple': 1, 'created': 1, 'WellNUS©': 1, 'Framework': 1, 'systematically': 1, 'map': 1, 'different': 1, 'aspect': 1, 'identify': 1, 'relevant': 1, 'initiative': 1, 'key': 1, 'provide': 1, 'aim': 1, 'framework': 1, 'holistic': 1, 'structured': 1, 'sustainable': 1, 'approach': 1, 'towards': 1, 'for-credit': 1, '“': 1, 'Resilience': 1, 'Success': 1, '”': 1, 'elective': 1, 'first-year': 1, 'order': 1, 'equip': 1, 'strategy': 1, 'respond': 1, 'inevitable': 1, 'challenge': 1, 'adversity': 1, 'face': 1, 'Example': 1, 'topic': 1, 'include': 1, 'finding': 1, 'purpose': 1, 'utilising': 1, 'strength': 1, 'practising': 1, 'vulnerability': 1, 'developing': 1, 'positive': 1, 'interpersonal': 1, 'relationship': 1, 'later': 1, 'adapted': 1, 'graduating': 1, 'senior': 1, 'help': 1, 'often-stressful': 1, 'phase': 1, 'transitioning': 1, 'collaborative': 1, 'effort': 1, 'division': 1, 'psychology': 1, 'seminar-style': 1, 'discussion': 1, 'assignment': 1, 'emphasised': 1, 'personal': 1, 'reflection': 1, 'application': 1, 'Students': 1, 'completed': 1, 'reported': 1, 'better': 1, 'equipped': 1, 'navigate': 1, 'future': 1, 'understand': 1})\n",
            "\n",
            "Topic 2\n",
            "Counter({',': 21, '.': 13, 'point': 5, 'Prawira': 4, 'Hong': 4, 'Kong': 4, 'Basketball': 4, 'back': 4, 'Eastern': 3, 'Round': 3, 'Asia': 3, '(': 3, ')': 3, 'left': 3, 'rebound': 3, 'Saputera': 3, 'coming': 3, '2': 2, 'League': 2, 'BCL': 2, 'night': 2, 'The': 2, 'reigning': 2, 'IBL': 2, 'champion': 2, 'scorer': 2, '15': 2, 'second': 2, 'quarter': 2, 'whole': 2, 'ahead': 2, 'side': 2, 'way': 2, 'Pelita': 2, 'Jaya': 2, 'winner': 2, 'Gist': 2, '3': 2, 'Muhamad': 2, 'nailed': 2, 'lead': 2, 'Wednesday': 2, 'local': 2, 'time': 2, \"'s\": 2, 'Harum': 1, 'Bandung': 1, 'overcame': 1, 'adversity': 1, 'stunned': 1, 'Team': 1, '53-50': 1, 'triumphant': 1, 'start': 1, 'campaign': 1, 'Champions': 1, 'Qualifiers': 1, 'Tuesday': 1, 'BritAma': 1, 'Arena': 1, 'Indonesian': 1, 'lost': 1, 'star': 1, 'Brandone': 1, 'Francis': 1, 'third': 1, 'due': 1, 'disqualifying': 1, 'foul': 1, 'However': 1, 'became': 1, 'opportunity': 1, 'crew': 1, 'play': 1, 'collectively': 1, 'soon': 1, 'get': 1, '1': 1, 'tormentor': 1, 'went': 1, '18-5': 1, 'scoring': 1, 'tear': 1, 'head': 1, 'final': 1, 'period': 1, '44-38': 1, 'momentum': 1, 'never': 1, 'rest': 1, 'en': 1, 'route': 1, 'joining': 1, 'another': 1, 'outfit': 1, 'opening': 1, 'Antonio': 1, 'Hester': 1, 'top-scored': 1, 'hometown': 1, '19': 1, 'James': 1, 'fell': 1, 'short': 1, 'double-double': 1, 'outing': 1, '9': 1, '13': 1, 'together': 1, 'assist': 1, '4': 1, 'steal': 1, 'block': 1, 'netting': 1, 'efficiency': 1, 'EFF': 1, '21': 1, 'Indra': 1, '8': 1, 'Yudha': 1, 'added': 1, '7': 1, 'spitfire': 1, 'guard': 1, 'two': 1, 'three-pointers': 1, 'apiece': 1, 'help': 1, 'third-quarter': 1, 'reversal': 1, 'trey': 1, 'tie': 1, 'thing': 1, 'followed': 1, 'triple': 1, 'give': 1, '37-34': 1, '4:13': 1, 'putting': 1, 'good': 1, 'would': 1, 'many': 1, 'nine': 1, '52-43': 1, 'late': 1, 'game': 1, 'behind': 1, 'jumper': 1, 'Now': 1, 'look': 1, 'forward': 1, 'meeting': 1, 'April': 1, '24': 1, '20:00': 1, 'virtually': 1, 'assured': 1, 'spot': 1, 'proper': 1, 'Chris': 1, 'McLaughlin': 1, 'meanwhile': 1, 'led': 1, '17': 1, '10': 1, 'Yiu': 1, 'Pong': 1, 'Yip': 1, 'double-digit': 1, '12': 1, 'collapse': 1, 'A1': 1, 'Division': 1, 'still': 1, 'tried': 1, 'come': 1, 'within': 1, 'field': 1, 'goal': 1, '52-50': 1, 'following': 1, 'Dominic': 1, 'Gilbert': 1, 'conversion': 1, '35.4': 1, 'split': 1, 'plus': 1, 'lockdown': 1, 'defense': 1, 'prevented': 1, 'try': 1, 'bounce': 1, 'NS': 1, 'Matrix': 1, 'Deers': 1, 'well': 1, '17:30': 1, 'battle': 1, 'team': 1, 'loss': 1})\n",
            "\n",
            "Topic 3\n",
            "Counter({'.': 14, ',': 12, 'tax': 9, 'rate': 9, 'proposal': 8, 'income': 7, 'capital': 6, 'gain': 6, '’': 5, 'would': 4, '$': 4, 'Biden': 3, '44.6': 3, '%': 3, 'increase': 3, 'investment': 3, 'taxable': 3, 'The': 3, 'high': 3, 'crypto': 3, 'form': 3, 'transaction': 3, 'raise': 2, '2025': 2, 'A': 2, 'Revenue': 2, 'top': 2, 'ordinary': 2, '…': 2, 'percentage': 2, '400,000': 2, 'long-term': 2, 'qualified': 2, 'dividend': 2, 'main': 2, 'taxpayer': 2, '1': 2, 'million': 2, 'administration': 2, 'policy': 2, 'likely': 2, 'It': 2, 'may': 2, 'reporting': 2, 'United': 1, 'States': 1, 'President': 1, 'Joe': 1, 'proposed': 1, 'marking': 1, 'highest': 1, 'formal': 1, 'federal': 1, 'history': 1, 'Per': 1, 'Forbes': 1, 'report': 1, 'added': 1, 'budget': 1, 'fiscal': 1, 'year': 1, 'footnote': 1, 'General': 1, 'Explanations': 1, 'Administration': 1, 'Fiscal': 1, 'Year': 1, 'Proposals': 1, 'read': 1, '“': 1, 'separate': 1, 'first': 1, '39.6': 1, 'percent': 1, 'An': 1, 'additional': 1, 'net': 1, '1.2': 1, 'point': 1, 'Together': 1, 'marginal': 1, 'percent.': 1, '”': 1, 'There': 1, 'give': 1, 'context': 1, 'above-mentioned': 1, 'statement': 1, 'involves': 1, 'raising': 1, '37': 1, 'This': 1, 'potential': 1, 'come': 1, 'fruition': 1, 'possible': 1, 'different': 1, 'president': 1, 'In': 1, 'like': 1, 'manner': 1, 'apply': 1, 'Presenting': 1, 'subtle': 1, 'maneuver': 1, 'trigger': 1, 'ignoring': 1, 'crucial': 1, 'aspect': 1, 'threshold': 1, 'appears': 1, 'attempting': 1, 'place': 1, 'earner': 1, 'common': 1, 'playing': 1, 'field': 1, 'Amid': 1, 'push': 1, 'hike': 1, 'many': 1, 'business': 1, 'individual': 1, 'impacted': 1, 'turn': 1, 'digital': 1, 'asset': 1, 'help': 1, 'experience': 1, 'economic': 1, 'freedom': 1, 'At': 1, 'least': 1, 'law': 1, 'fully': 1, 'taken': 1, 'effect': 1, 'require': 1, 'proposing': 1, 'U.S.': 1, 'Internal': 1, 'Service': 1, '(': 1, 'IRS': 1, ')': 1, 'revealed': 1, 'early': 1, 'draft': 1, 'new': 1, 'day': 1, 'ago': 1, 'dubbed': 1, '1099-DA': 1, 'aimed': 1, 'facilitating': 1, 'simplifying': 1, 'liability': 1, 'linked': 1, 'take': 1, 'record': 1, 'loss': 1, 'contains': 1, 'section': 1, 'mention': 1, 'specific': 1, 'token': 1, 'code': 1, 'wallet': 1, 'address': 1, 'information': 1, 'Many': 1, 'investor': 1, 'find': 1, 'easy': 1, 'fill': 1, 'considering': 1, 'expert': 1, 'took': 1, 'time': 1, 'explain': 1, 'appropriate': 1, 'approach': 1})\n",
            "\n",
            "Topic 4\n",
            "Counter({',': 25, '.': 13, '“': 7, '(': 6, ')': 6, 'medical': 6, 'said': 6, 'KKB': 5, 'Act': 4, 'programme': 4, 'Dzulkefly': 4, 'healthcare': 4, 'Hospital': 4, 'Health': 3, 'MOH': 3, '50': 3, 'PPP': 3, 'amendment': 3, 'Dr': 3, 'service': 3, 'specialist': 3, 'emergency': 3, 'Ministry': 2, 'gap': 2, 'local': 2, 'degree': 2, 'Dr.': 2, 'comprehensive': 2, 'engagement': 2, 'MOHE': 2, 'professional': 2, 'government': 2, 'facility': 2, 'visit': 2, 'today': 2, 'early': 2, 'year': 2, 'improvement': 2, 'congestion': 2, 'Selayang': 2, 'treatment': 2, 'unit': 2, 'The': 1, 'stand': 1, 'decision': 1, 'amend': 1, 'Medical': 1, '1971': 1, 'bridge': 1, 'parallel': 1, 'pathway': 1, 'despite': 1, 'objection': 1, 'party': 1, 'Minister': 1, 'Datuk': 1, 'Seri': 1, 'Ahmad': 1, 'conducting': 1, 'session': 1, 'Higher': 1, 'Education': 1, 'found': 1, 'necessary': 1, 'make': 1, 'act': 1, 'He': 1, 'ministry': 1, 'also': 1, 'received': 1, 'legal': 1, 'view': 1, 'Attorney': 1, 'General': 1, \"'s\": 1, 'Chambers': 1, 'Anyone': 1, 'express': 1, 'opinion': 1, 'aligned': 1, 'matter': 1, 'line': 1, 'joint': 1, 'study': 1, 'Therefore': 1, 'soon': 1, 'submit': 1, 'proposed': 1, 'memorandum': 1, 'Cabinet': 1, 'This': 1, 'process': 1, 'pursuing': 1, 'resolve': 1, 'issue': 1, 'clarify': 1, 'status': 1, 'address': 1, 'shortage': 1, 'serving': 1, 'across': 1, 'country': 1, 'told': 1, 'press': 1, 'conference': 1, 'working': 1, 'Kuala': 1, 'Kubu': 1, 'Baharu': 1, 'In': 1, 'April': 1, 'announced': 1, 'would': 1, 'propose': 1, 'ensure': 1, 'prompt': 1, 'registration': 1, 'recognition': 1, 'trained': 1, 'later': 1, 'Second': 1, 'Meeting': 1, 'Third': 1, 'Session': 1, '15th': 1, 'Parliament': 1, 'June': 1, 'However': 1, 'Group': 1, 'Professors': 1, 'Medicine': 1, 'led': 1, 'chairman': 1, 'Prof': 1, 'Noor': 1, 'Hassim': 1, 'Ismail': 1, 'disagreed': 1, 'stating': 1, 'could': 1, 'resolved': 1, 'without': 1, 'amending': 1, 'Commenting': 1, 'placement': 1, 'general': 1, 'practitioner': 1, 'since': 1, 'January': 1, 'last': 1, 'successfully': 1, 'reduced': 1, 'Previously': 1, 'resident': 1, 'go': 1, 'Now': 1, 'presence': 1, 'I': 1, 'see': 1, 'gained': 1, 'confidence': 1, 'seek': 1, 'Not': 1, 'enhance': 1, 'plan': 1, 'establish': 1, 'department': 1, 'currently': 1, 'staffed': 1, 'medicine': 1, 'May': 1, 'aspect': 1, 'needing': 1, 'include': 1, 'enhancing': 1, 'surrounding': 1, 'population': 1, 'includes': 1, 'addressing': 1, 'pharmacy': 1, 'providing': 1, 'additional': 1, 'parking': 1, 'space': 1})\n",
            "\n",
            "Topic 5\n",
            "Counter({',': 19, '.': 17, 'Indonesia': 9, \"'s\": 8, 'South': 7, 'minute': 5, 'goal': 5, 'shot': 5, 'The': 4, 'Korean': 4, 'Korea': 3, 'penalty': 3, 'Struick': 3, 'Marselino': 3, 'good': 3, 'first': 3, 'half': 3, 'U-23': 2, 'made': 2, 'shootout': 2, 'Asian': 2, 'match': 2, 'ended': 2, 'found': 2, 'left': 2, 'goalkeeper': 2, 'Baek': 2, 'chance': 2, 'side': 2, 'national': 1, 'team': 1, 'history': 1, 'defeating': 1, 'quarter-finals': 1, 'Cup': 1, 'emerged': 1, 'victorious': 1, 'winning': 1, '11-10': 1, '2-2': 1, 'following': 1, '120': 1, 'play': 1, 'This': 1, 'victory': 1, 'secured': 1, 'place': 1, 'semifinal': 1, 'held': 1, 'Abdullah': 1, 'bin': 1, 'Khalifa': 1, 'Stadium': 1, 'Doha': 1, 'Thursday': 1, '(': 1, 'early': 1, 'Friday': 1, 'Jakarta': 1, 'time': 1, ')': 1, 'saw': 1, 'initially': 1, 'breach': 1, '8th': 1, 'However': 1, 'VAR': 1, 'review': 1, 'disallowed': 1, 'referee': 1, 'due': 1, 'player': 1, 'offside': 1, 'position': 1, 'Facing': 1, 'powerhouse': 1, 'broke': 1, 'deadlock': 1, '15th': 1, 'Rafael': 1, 'outside': 1, 'box': 1, 'bottom': 1, 'corner': 1, 'beyond': 1, 'reach': 1, 'Jong-bum': 1, 'one-goal': 1, 'advantage': 1, 'boosted': 1, 'confidence': 1, 'created': 1, 'opportunity': 1, 'combining': 1, 'Witan': 1, 'Sulaeman': 1, 'unfortunately': 1, 'sailed': 1, 'crossbar': 1, 'equalized': 1, '45th': 1, 'header': 1, 'deflected': 1, 'Komang': 1, 'Teguh': 1, 'Ernando': 1, 'Ari': 1, 'Just': 1, 'end': 1, 'restored': 1, 'lead': 1, 'Receiving': 1, 'long': 1, 'pas': 1, 'Ivar': 1, 'Jenner': 1, 'controlled': 1, 'ball': 1, 'deceived': 1, 'opponent': 1, 'defender': 1, 'beat': 1, 'left-footed': 1, 'leading': 1, '2-1': 1, 'Early': 1, 'second': 1, 'three': 1, 'two': 1, 'one': 1, 'Pratama': 1, 'Arhan': 1, 'missed': 1, 'target': 1, 'another': 1, 'dribbling': 1, 'netting': 1, 'Shortly': 1, 'afterward': 1, 'coach': 1, 'Shin': 1, 'Tae-yong': 1, 'substitution': 1, 'replacing': 1, 'Rio': 1, 'Fahmi': 1, 'Fajar': 1, 'Fathurrahman': 1, 'In': 1, '68th': 1, 'Lee': 1, 'Young-jun': 1, 'committed': 1, 'harsh': 1, 'foul': 1, 'Hubner': 1})\n",
            "\n",
            "Topic 6\n",
            "Counter({',': 30, '.': 17, '2024': 9, 'percent': 7, '(': 7, ')': 7, 'March': 7, 'consumption': 6, 'growth': 5, '$': 5, 'billion': 5, 'Sri': 4, 'Mulyani': 4, 'contraction': 4, 'increase': 4, 'February': 4, 'first': 3, 'quarter': 3, 'export': 3, 'import': 3, 'global': 3, 'spending': 3, '2023': 3, 'Indonesia': 2, \"'s\": 2, 'economic': 2, '5.17': 2, 'driven': 2, 'strong': 2, 'However': 2, 'still': 2, 'performance': 2, 'consumer': 2, 'remain': 2, 'cautious': 2, \"'\": 2, 'said': 2, 'expected': 2, 'election': 2, 'holiday': 2, 'THR': 2, 'activity': 2, 'recorded': 2, 'sector': 2, 'Eid': 2, 'correction': 2, 'Meanwhile': 2, 'decrease': 2, 'Finance': 1, 'Minister': 1, 'Indrawati': 1, 'predicts': 1, 'reach': 1, 'household': 1, 'constrained': 1, 'often': 1, 'face': 1, 'due': 1, 'impact': 1, 'turmoil': 1, \"'Supported\": 1, 'manufacturing': 1, 'well': 1, 'foreign': 1, 'direct': 1, 'investment': 1, 'FDI': 1, 'purchasing': 1, 'manager': 1, 'index': 1, 'PMI': 1, 'predict': 1, 'Q1': 1, 'turbulence': 1, 'occurring': 1, 'economy': 1, 'press': 1, 'conference': 1, 'office': 1, 'Friday': 1, 'Government': 1, 'grow': 1, 'strongly': 1, 'salary': 1, 'civil': 1, 'servant': 1, 'distribution': 1, 'bonus': 1, 'Household': 1, 'also': 1, 'increased': 1, 'significantly': 1, 'line': 1, 'controlled': 1, 'inflation': 1, 'The': 1, 'Consumer': 1, 'Confidence': 1, 'Index': 1, 'CCI': 1, '123.8': 1, 'indicating': 1, 'continued': 1, 'While': 1, 'electricity': 1, 'business': 1, 'remains': 1, 'positive': 1, 'industrial': 1, 'attributed': 1, 'numerous': 1, 'public': 1, 'al-Fitr': 1, 'Cement': 1, 'surged': 1, 'two': 1, 'month': 1, 'ago': 1, 'corrected': 1, '1.9': 1, \"'Overall\": 1, 'quite': 1, 'good': 1, 'need': 1, 'experienced': 1, 'seasonal': 1, 'Ramadan': 1, 'structural': 1, 'long-term': 1, 'Investment': 1, 'alongside': 1, 'progress': 1, 'national': 1, 'strategic': 1, 'project': 1, 'PSN': 1, 'development': 1, 'new': 1, 'capital': 1, 'city': 1, 'Nusantara': 1, 'Capital': 1, 'IKN': 1, 'hindered': 1, 'weak': 1, 'demand': 1, 'trade': 1, 'balance': 1, 'surplus': 1, '4.47': 1, 'Rp': 1, '72.45': 1, 'trillion': 1, '3.64': 1, 'This': 1, 'marked': 1, 'significant': 1, 'stood': 1, '1.65': 1, 'reached': 1, '22.43': 1, 'marking': 1, '16.4': 1, '4.19': 1, 'compared': 1, 'totaled': 1, '17.96': 1, 'reflecting': 1, '2.6': 1, '12.76': 1})\n",
            "\n"
          ]
        }
      ]
    },
    {
      "cell_type": "markdown",
      "source": [
        "**Interpretasi**\n",
        "\n",
        "**Topic 1 (Medical)**:\n",
        "- Artikel ini memiliki total 13 tanda baca (titik) dan 10 tanda baca (koma).\n",
        "- Kata-kata yang paling sering muncul dalam artikel ini adalah \"student\" dan \"mental\", masing-masing muncul sebanyak 8 kali.\n",
        "- Kata-kata lain yang sering muncul termasuk \"health\", \"support\", \"course\", \"faculty\", \"training\", \"resource\", dan \"college\".\n",
        "- Artikel ini membahas tentang dukungan kesehatan mental di sebuah institusi universitas, dengan menyoroti pelatihan staf dan dosen dalam mengelola masalah kesehatan mental mahasiswa.\n",
        "\n",
        "**Topic 2 (Sport)**:\n",
        "- Artikel ini memiliki total 21 tanda baca (koma) dan 13 tanda baca (titik).\n",
        "- Kata-kata yang paling sering muncul dalam artikel ini adalah \"Prawira\" dan \"Hong\", masing-masing muncul sebanyak 4 kali.\n",
        "- Kata-kata lain yang sering muncul termasuk \"Basketball\", \"Eastern\", \"Round\", \"Asia\", \"Saputera\", \"Pelita\", \"Jaya\", dan \"Gist\".\n",
        "- Artikel ini membahas tentang pertandingan bola basket antara Prawira Harum Bandung dan Hong Kong Eastern Basketball Team.\n",
        "\n",
        "**Topic 3 (Finance)**:\n",
        "- Artikel ini memiliki total 14 tanda baca (titik) dan 12 tanda baca (koma).\n",
        "- Kata-kata yang paling sering muncul dalam artikel ini adalah \"tax\" dan \"rate\", masing-masing muncul sebanyak 9 kali.\n",
        "- Kata-kata lain yang sering muncul termasuk \"proposal\", \"income\", \"capital\", \"gain\", \"Biden\", \"investment\", dan \"taxable\".\n",
        "- Artikel ini membahas tentang proposal peningkatan pajak atas capital gain yang diajukan oleh Presiden Joe Biden."
      ],
      "metadata": {
        "id": "U7BvdvWqG-0P"
      }
    },
    {
      "cell_type": "code",
      "source": [
        "# Vektor sebelum ditambahkan corpus_text\n",
        "cv = CountVectorizer()\n",
        "bow_vectors = cv.fit_transform(corpus_texts).toarray()\n",
        "print(bow_vectors)\n",
        "print(len(bow_vectors[0]))"
      ],
      "metadata": {
        "colab": {
          "base_uri": "https://localhost:8080/"
        },
        "id": "Tl5kaBJVgxj1",
        "outputId": "d7fcde94-ea7b-48a4-d627-db89c84d09f0"
      },
      "execution_count": null,
      "outputs": [
        {
          "output_type": "stream",
          "name": "stdout",
          "text": [
            "[[0 0 0 ... 0 0 0]\n",
            " [1 0 1 ... 0 0 1]\n",
            " [0 2 0 ... 0 0 0]\n",
            " [0 0 0 ... 0 0 0]\n",
            " [0 0 1 ... 1 1 0]\n",
            " [0 0 0 ... 0 0 0]]\n",
            "883\n"
          ]
        }
      ]
    },
    {
      "cell_type": "markdown",
      "source": [
        "#### Klasifikasi Teks"
      ],
      "metadata": {
        "id": "9wjYvuNXPg2A"
      }
    },
    {
      "cell_type": "markdown",
      "source": [
        "##### Maximum similarity"
      ],
      "metadata": {
        "id": "Zl7Y-AFD3Mpw"
      }
    },
    {
      "cell_type": "markdown",
      "source": [
        "Klasifikasi dilakukan berdasarkan maximum similarity, yaitu mengidentifikasi kategori atau label yang paling mirip dengan teks input berdasarkan kesamaannya dengan teks-teks yang sudah ada dalam data training."
      ],
      "metadata": {
        "id": "1fizsxUuPlfS"
      }
    },
    {
      "cell_type": "markdown",
      "source": [
        "###### Modeling"
      ],
      "metadata": {
        "id": "TUDogK2C-RJg"
      }
    },
    {
      "cell_type": "code",
      "source": [
        "# A new text to be classified based on topic\n",
        "query_text = \"Cristiano Ronaldo came off the bench to earn Manchester United a hard-fought 2-1 victory at Everton in the Premier League on Sunday, taking his career goal tally to 700 in the process. Just as United did last weekend in their derby mauling at the hands of local rivals Manchester City, they again found themselves behind early on at Goodison Park after Alex Iwobi curled a sublime strike into the net from 20 metres.\"\n",
        "query_words = word_tokenize(query_text)\n",
        "query_words_clean = [lemmatizer.lemmatize(word) for word in query_words if word not in set(stopwords.words('english'))]\n",
        "query_words_corpus = [word for word in query_words_clean if word in set(bow_keys)]\n",
        "query_text_corpus = ' '.join(query_words_corpus)\n",
        "corpus_texts.append(query_text_corpus)\n",
        "\n",
        "# Vektor setelah ditambahkan corpus_text\n",
        "cv = CountVectorizer()\n",
        "bow_vectors = cv.fit_transform(corpus_texts).toarray()\n",
        "print(bow_vectors)\n",
        "print(len(bow_vectors[0]))"
      ],
      "metadata": {
        "colab": {
          "base_uri": "https://localhost:8080/"
        },
        "id": "to89a6eFMPz7",
        "outputId": "8853fd73-c226-4d13-b77b-d9141a894d49"
      },
      "execution_count": null,
      "outputs": [
        {
          "output_type": "stream",
          "name": "stdout",
          "text": [
            "[[0 0 0 ... 0 0 0]\n",
            " [1 0 1 ... 0 0 1]\n",
            " [0 2 0 ... 0 0 0]\n",
            " ...\n",
            " [0 0 0 ... 0 0 0]\n",
            " [0 0 0 ... 0 0 0]\n",
            " [0 0 0 ... 0 0 0]]\n",
            "883\n"
          ]
        }
      ]
    },
    {
      "cell_type": "markdown",
      "source": [
        "Berikut merupakan penjelasan dari syntax di atas:\n",
        "1. Yang pertama kali dilakukan adalah mendefinisikan teks yang akan diklasifikasikan\n",
        "\n",
        "2. Melakukan tokenisasi dan preprocessing data\n",
        "\n",
        "    a. Teks dari query_text di-tokenisasi menjadi kata-kata menggunakan word_tokenize.\n",
        "\n",
        "    b. Setiap kata dalam teks di-lemmatisasi menggunakan lemmatizer.lemmatize(word) untuk mengubah kata-kata ke bentuk dasar.\n",
        "\n",
        "    c. Kata-kata yang bukan stop words (kata-kata umum yang tidak memberikan banyak informasi seperti \"the\", \"is\", \"and\", dsb.) disimpan dalam variabel query_words_clean.\n",
        "\n",
        "3. Kemudian dilanjut dengan seleksi kata-kata untuk corpus dan ditambahkan ke dalam corpus\n",
        "\n",
        "    Kata-kata yang ada dalam query_words_clean dan juga ada dalam bow_keys (bag-of-words keys yang sudah dibersihkan sebelumnya) disimpan dalam variabel query_words_corpus.\n",
        "    Kata-kata tersebut digabungkan kembali menjadi teks menggunakan join dan disimpan dalam variabel query_text_corpus.\n",
        "\n",
        "4. Yang terakhir adalah membuat representasi vector dengan CountVectorizer\n",
        "\n",
        "    a. Modul CountVectorizer dari scikit-learn digunakan untuk membuat representasi vektor dari teks.\n",
        "\n",
        "    b. Objek cv merupakan objek CountVectorizer yang akan digunakan untuk mengubah teks menjadi vektor.\n",
        "\n",
        "    c. cv.fit_transform(corpus_texts).toarray() digunakan untuk mengubah teks dari corpus_texts menjadi representasi vektor menggunakan metode bag-of-words.\n",
        "\n",
        "    d. Hasilnya adalah bow_vectors, yang merupakan array numpy yang berisi vektor representasi dari teks-teks dalam corpus_texts.\n"
      ],
      "metadata": {
        "id": "n1RLo22SBmF9"
      }
    },
    {
      "cell_type": "markdown",
      "source": [
        "**Interpretasi**\n",
        "\n",
        "Dari output yang diperoleh, kita memiliki matriks yang mewakili Bag of Words (BoW) dari teks yang disertakan. Matriks tersebut memiliki 883 kolom, yang menunjukkan bahwa terdapat 883 kata unik dalam seluruh korpus teks, termasuk teks tambahan yang ingin diklasifikasikan.\n",
        "\n",
        "Matriks tersebut memiliki 7 baris, yang masing-masing mewakili satu topik dalam korpus teks. Berikut adalah interpretasi baris-baris tersebut:\n",
        "\n",
        "- **Baris 0**: Mewakili BoW untuk \"Topic 1\" yang merupakan topik tentang kesehatan mental di institusi universitas.\n",
        "- **Baris 1**: Mewakili BoW untuk \"Topic 2\" yang merupakan topik tentang pertandingan bola basket antara tim-tim tertentu.\n",
        "- **Baris 2**: Mewakili BoW untuk \"Topic 3\" yang merupakan topik tentang proposal peningkatan pajak atas capital gain yang diajukan oleh Presiden Joe Biden.\n",
        "- **Baris 3-5**: Mewakili BoW untuk \"Topic 4\" sampai dengan \"Topic 6\" yang merupakan topik artikel untuk data test menggunakan model selain metode maximum similarity.\n",
        "- **Baris 6**: Mewakili BoW untuk teks tambahan yang ingin diklasifikasikan. Dalam teks ini, tidak ada kata yang muncul, sehingga semua nilai dalam baris ini adalah 0.\n",
        "\n",
        "Dengan menggunakan matriks BoW tersebut, kita dapat melanjutkan dengan tahap klasifikasi teks tambahan tersebut ke dalam salah satu topik berdasarkan kesamaannya dengan matriks BoW yang sudah ada."
      ],
      "metadata": {
        "id": "71vQ6I66HjS_"
      }
    },
    {
      "cell_type": "code",
      "source": [
        "# Normalize the BoW Vectors\n",
        "bow_texts_norm = []\n",
        "for bow in bow_vectors:\n",
        "  length = (sum(i*i for i in bow)) ** 0.5\n",
        "  bow_norm = bow/length\n",
        "  bow_texts_norm.append(bow_norm)\n",
        "\n",
        "# Compute similarity using dot product\n",
        "similarity_vector = []\n",
        "bow_norm_query = bow_texts_norm[-1]\n",
        "for bow in bow_texts_norm[:3]:\n",
        "  similarity_vector.append(sum(i*j for i,j in zip(bow, bow_norm_query)))\n",
        "print(similarity_vector)\n",
        "\n",
        "# Find the highest similarity\n",
        "id_max_sim = similarity_vector.index(max(similarity_vector))\n",
        "if(id_max_sim == 0):\n",
        "  print(\"The query text is classified as: Medical topic\")\n",
        "elif(id_max_sim == 1):\n",
        "  print(\"The query text is classified as: Sport topic\")\n",
        "elif(id_max_sim == 2):\n",
        "  print(\"The query text is classified as: Finance topic\")"
      ],
      "metadata": {
        "colab": {
          "base_uri": "https://localhost:8080/"
        },
        "id": "rgpXDx2lND6o",
        "outputId": "1e048c43-c330-4026-f491-eaa16a21d1e6"
      },
      "execution_count": null,
      "outputs": [
        {
          "output_type": "stream",
          "name": "stdout",
          "text": [
            "[0.0, 0.07286792513358903, 0.039461089893359204]\n",
            "The query text is classified as: Sport topic\n"
          ]
        }
      ]
    },
    {
      "cell_type": "markdown",
      "source": [
        "**Interpretasi**\n",
        "\n",
        "Dalam output, diberikan nilai similaritas antara query text dengan setiap kelas, diikuti dengan kelas yang memiliki nilai similaritas tertinggi. Dalam contoh tersebut, nilai similaritas antara query text dengan kelas Medical, Sport, dan Finance berturut-turut adalah 0.0, 0.07286, dan 0.03946. Karena nilai similaritas tertinggi terjadi dengan kelas Sport, maka query text tersebut diklasifikasikan sebagai kelas Sport."
      ],
      "metadata": {
        "id": "mkySiA4aINic"
      }
    },
    {
      "cell_type": "markdown",
      "source": [
        "###### Metric Evaluation"
      ],
      "metadata": {
        "id": "Tj8_Ad8k4DyQ"
      }
    },
    {
      "cell_type": "code",
      "source": [
        "import numpy as np\n",
        "from sklearn.metrics import accuracy_score, precision_score, recall_score, f1_score\n",
        "\n",
        "true_label = \"Sport\"\n",
        "predicted_label = \"Sport\"  # Sesuai dengan output dari kode\n",
        "accuracy = accuracy_score([true_label], [predicted_label])\n",
        "precision = precision_score([true_label], [predicted_label], average='weighted')\n",
        "recall = recall_score([true_label], [predicted_label], average='weighted')\n",
        "f1 = f1_score([true_label], [predicted_label], average='weighted')\n",
        "print(\"Accuracy:\", accuracy)\n",
        "print(\"Precision:\", precision)\n",
        "print(\"Recall:\", recall)\n",
        "print(\"F1-score:\", f1)\n"
      ],
      "metadata": {
        "id": "U2rwJAB8ujfE",
        "outputId": "5d47f09d-333f-45b2-d553-14ce4a90d485",
        "colab": {
          "base_uri": "https://localhost:8080/"
        }
      },
      "execution_count": null,
      "outputs": [
        {
          "output_type": "stream",
          "name": "stdout",
          "text": [
            "Accuracy: 1.0\n",
            "Precision: 1.0\n",
            "Recall: 1.0\n",
            "F1-score: 1.0\n"
          ]
        }
      ]
    },
    {
      "cell_type": "markdown",
      "source": [
        "Pada kasus klasifikasi teks, diperlukan evaluasi seberapa mirip teks (true positive) tersebut terhadap data yang sudah di-train sehingga pada kasus ini akan dipilih metric evaluation **akurasi**, untuk memberikan gambaran tentang seberapa sering model membuat prediksi yang benar secara keseluruhan."
      ],
      "metadata": {
        "id": "FrWdGKX392u2"
      }
    },
    {
      "cell_type": "markdown",
      "source": [
        "Syntax di atas adalah sntax untuk menghitung metrik evaluasi hasil dari klasifikasi bag of words yang memberikan output Sport dari data testing, seperti akurasi (accuracy), presisi (precision), recall, dan F1-score. Berikut adalah penjelasannya:\n",
        "\n",
        "1. **Accuracy (Akurasi):**\n",
        "   - Akurasi mengukur seberapa tepat model dalam mengklasifikasikan data. Nilai akurasi berkisar dari 0 hingga 1, di mana 1 menunjukkan prediksi yang sempurna dan 0 menunjukkan prediksi yang buruk.\n",
        "   - Dalam contoh tersebut, hasilnya adalah 1.0, yang berarti model melakukan prediksi dengan sempurna, atau dalam kasus ini, prediksi label yang sama dengan label sebenarnya (karena hasil output dari syntax klasifikasi di atas didapapatkan hasil label Sport)\n",
        "\n",
        "2. **Precision (Presisi):**\n",
        "   - Presisi mengukur seberapa andal model dalam mengidentifikasi instance positif dari semua instance yang diprediksi sebagai positif.\n",
        "   - Hasilnya juga adalah 1.0, yang menunjukkan bahwa dari semua instance yang diprediksi sebagai \"Sport\", semuanya benar-benar merupakan \"Sport\". Ini menunjukkan tingkat keandalan model dalam mengklasifikasikan label yang positif.\n",
        "\n",
        "3. **Recall (Recall atau Sensitivitas):**\n",
        "   - Recall mengukur seberapa baik model dapat mengidentifikasi instance positif dari semua instance yang sebenarnya positif.\n",
        "   - Seperti akurasi dan presisi, recall juga memiliki nilai 1.0 dalam contoh ini, menunjukkan bahwa model berhasil mengidentifikasi semua instance yang sebenarnya \"Sport\".\n",
        "\n",
        "4. **F1-score (Skor F1):**\n",
        "   - F1-score adalah rata-rata harmonik dari presisi dan recall. Metric ini berguna saat kita ingin memperhitungkan baik false positives maupun false negatives.\n",
        "   - Hasilnya juga adalah 1.0, menunjukkan bahwa model memiliki keseimbangan yang baik antara presisi dan recall dalam kasus ini.\n",
        "\n",
        "Secara keseluruhan, hasil syntax tersebut menunjukkan bahwa model melakukan dengan sangat baik dalam mengklasifikasikan teks yang diberikan sebagai \"Sport\", dengan nilai **akurasi**, presisi, recall, dan F1-score mencapai 1.0. Alasan pemberian 1 label (Sport) pada true_label dan predicted_label dikarenakan data testing yang diinput hanya berupa 1 teks, berbeda kasus jika data testing lebih dari 1 maka true_label akan semakin bertambah."
      ],
      "metadata": {
        "id": "ivv5UJBP67fU"
      }
    },
    {
      "cell_type": "markdown",
      "source": [
        "##### Decision Tree, Random Forest, Logistic Regression, & SVM"
      ],
      "metadata": {
        "id": "vJttm3Nr1ekA"
      }
    },
    {
      "cell_type": "markdown",
      "source": [
        "###### Modeling"
      ],
      "metadata": {
        "id": "oCbbxnbo7Ff7"
      }
    },
    {
      "cell_type": "code",
      "source": [
        "# Import Library\n",
        "from sklearn.tree import DecisionTreeClassifier\n",
        "from sklearn.ensemble import RandomForestClassifier\n",
        "from sklearn.linear_model import LogisticRegression\n",
        "from sklearn import svm\n",
        "from sklearn.neighbors import KNeighborsClassifier\n",
        "from sklearn.metrics import classification_report\n",
        "import warnings\n",
        "warnings.filterwarnings(\"ignore\")"
      ],
      "metadata": {
        "id": "StgT282D7S6a"
      },
      "execution_count": null,
      "outputs": []
    },
    {
      "cell_type": "code",
      "source": [
        "# Split index menjadi training, test, dan predict data\n",
        "X_train = bow_texts_norm[0:3]\n",
        "X_test = bow_texts_norm[3:6]\n",
        "text_predict = bow_texts_norm[6]\n",
        "\n",
        "# List string topic train & data\n",
        "y_train = ['Medical', 'Sport', 'Finance']\n",
        "y_test = ['Medical', 'Sport', 'Finance']\n",
        "\n",
        "# Fit model train, y train\n",
        "# Membuat model\n",
        "dt = DecisionTreeClassifier()\n",
        "rf = RandomForestClassifier()\n",
        "lr = LogisticRegression()\n",
        "svm = svm.SVC()\n",
        "\n",
        "# List model\n",
        "models = [dt, rf, lr, svm]\n",
        "model_names = ['Decision Tree', 'Random Forest', 'Logistic Regression', 'SVM']\n",
        "\n",
        "# Dictionary untuk menyimpan hasil prediksi\n",
        "y_preds = {}\n",
        "\n",
        "# Melakukan fit training dan prediksi untuk setiap model\n",
        "for model, name in zip(models, model_names):\n",
        "    model.fit(X_train, y_train)\n",
        "    y_pred = model.predict(X_test)\n",
        "    y_preds[name] = y_pred"
      ],
      "metadata": {
        "id": "8P_CFutijWs0"
      },
      "execution_count": null,
      "outputs": []
    },
    {
      "cell_type": "markdown",
      "source": [
        "###### Metric Evaluation"
      ],
      "metadata": {
        "id": "a_5ylU6P7DGk"
      }
    },
    {
      "cell_type": "code",
      "source": [
        "# Metric Evaluation\n",
        "# Membuat classification report\n",
        "print('### Testing Results Decision Tree Model ###\\n')\n",
        "print(classification_report(y_test, y_preds['Decision Tree']), '\\n')\n",
        "\n",
        "print('### Testing Results Random Forest Model ###\\n')\n",
        "print(classification_report(y_test, y_preds['Random Forest']), '\\n')\n",
        "\n",
        "print('### Testing Results Logistic Regression Model ###\\n')\n",
        "print(classification_report(y_test, y_preds['Logistic Regression']), '\\n')\n",
        "\n",
        "print('### Testing Results SVM Model ###\\n')\n",
        "print(classification_report(y_test, y_preds['SVM']), '\\n')"
      ],
      "metadata": {
        "colab": {
          "base_uri": "https://localhost:8080/"
        },
        "id": "RqrnW0v_xvdK",
        "outputId": "a4c348b8-9eec-4808-a7a6-2cdf3dfd91d6"
      },
      "execution_count": null,
      "outputs": [
        {
          "output_type": "stream",
          "name": "stdout",
          "text": [
            "### Testing Results Decision Tree Model ###\n",
            "\n",
            "              precision    recall  f1-score   support\n",
            "\n",
            "     Finance       0.50      1.00      0.67         1\n",
            "     Medical       0.00      0.00      0.00         1\n",
            "       Sport       1.00      1.00      1.00         1\n",
            "\n",
            "    accuracy                           0.67         3\n",
            "   macro avg       0.50      0.67      0.56         3\n",
            "weighted avg       0.50      0.67      0.56         3\n",
            " \n",
            "\n",
            "### Testing Results Random Forest Model ###\n",
            "\n",
            "              precision    recall  f1-score   support\n",
            "\n",
            "     Finance       0.50      1.00      0.67         1\n",
            "     Medical       0.00      0.00      0.00         1\n",
            "       Sport       1.00      1.00      1.00         1\n",
            "\n",
            "    accuracy                           0.67         3\n",
            "   macro avg       0.50      0.67      0.56         3\n",
            "weighted avg       0.50      0.67      0.56         3\n",
            " \n",
            "\n",
            "### Testing Results Logistic Regression Model ###\n",
            "\n",
            "              precision    recall  f1-score   support\n",
            "\n",
            "     Finance       1.00      1.00      1.00         1\n",
            "     Medical       1.00      1.00      1.00         1\n",
            "       Sport       1.00      1.00      1.00         1\n",
            "\n",
            "    accuracy                           1.00         3\n",
            "   macro avg       1.00      1.00      1.00         3\n",
            "weighted avg       1.00      1.00      1.00         3\n",
            " \n",
            "\n",
            "### Testing Results SVM Model ###\n",
            "\n",
            "              precision    recall  f1-score   support\n",
            "\n",
            "     Finance       1.00      1.00      1.00         1\n",
            "     Medical       1.00      1.00      1.00         1\n",
            "       Sport       1.00      1.00      1.00         1\n",
            "\n",
            "    accuracy                           1.00         3\n",
            "   macro avg       1.00      1.00      1.00         3\n",
            "weighted avg       1.00      1.00      1.00         3\n",
            " \n",
            "\n"
          ]
        }
      ]
    },
    {
      "cell_type": "markdown",
      "source": [
        "Pada kasus klasifikasi teks, diperlukan evaluasi seberapa mirip teks (true positive) tersebut terhadap data yang sudah di-train sehingga pada kasus ini akan dipilih metric evaluation **akurasi**, untuk memberikan gambaran tentang seberapa sering model membuat prediksi yang benar secara keseluruhan."
      ],
      "metadata": {
        "id": "PtL5LMlF7cZq"
      }
    },
    {
      "cell_type": "markdown",
      "source": [
        "**Interpretasi**\n",
        "* Akurasi yang dihasilkan oleh model Decision Tree adalah sebesar 67%\n",
        "* Akurasi yang dihasilkan oleh model Random Forest adalah sebesar 67%\n",
        "* Akurasi yang dihasilkan oleh model Logistic Regression adalah sebesar 100%\n",
        "* Akurasi yang dihasilkan oleh model SVM adalah sebesar 100%\n",
        "\n",
        "Artinya, dari ketiga model, yang paling baik modelnya adalah Logistic Regression dan SVM. Oleh karena itu, akan dipilih model Logistic Regression dan SVM untuk memprediksi text baru yang telah disiapkan."
      ],
      "metadata": {
        "id": "8NkAMYq68TYj"
      }
    },
    {
      "cell_type": "markdown",
      "source": [
        "###### New text prediction"
      ],
      "metadata": {
        "id": "JuVRv-RY9Wn_"
      }
    },
    {
      "cell_type": "code",
      "source": [
        "# Logistic Regression\n",
        "lr.predict([text_predict])"
      ],
      "metadata": {
        "colab": {
          "base_uri": "https://localhost:8080/"
        },
        "id": "Gspb97AuyzyT",
        "outputId": "4f7c2e26-d9c4-428f-d62d-2d60bf25cb5f"
      },
      "execution_count": null,
      "outputs": [
        {
          "output_type": "execute_result",
          "data": {
            "text/plain": [
              "array(['Sport'], dtype='<U7')"
            ]
          },
          "metadata": {},
          "execution_count": 44
        }
      ]
    },
    {
      "cell_type": "code",
      "source": [
        "# SVM\n",
        "svm.predict([text_predict])"
      ],
      "metadata": {
        "colab": {
          "base_uri": "https://localhost:8080/"
        },
        "id": "YLZmqpAf9PdT",
        "outputId": "0a811b38-a047-4d6f-afc7-a91a8ae2daf5"
      },
      "execution_count": null,
      "outputs": [
        {
          "output_type": "execute_result",
          "data": {
            "text/plain": [
              "array(['Sport'], dtype='<U7')"
            ]
          },
          "metadata": {},
          "execution_count": 45
        }
      ]
    },
    {
      "cell_type": "markdown",
      "source": [
        "Dari kedua model, diperoleh bahwa teks yang diberikan terprediksi sebagai Sport topic"
      ],
      "metadata": {
        "id": "cUkUIs4N9hrq"
      }
    }
  ]
}